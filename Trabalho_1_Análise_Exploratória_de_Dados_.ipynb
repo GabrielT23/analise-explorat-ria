{
  "nbformat": 4,
  "nbformat_minor": 0,
  "metadata": {
    "colab": {
      "provenance": []
    },
    "kernelspec": {
      "name": "python3",
      "display_name": "Python 3"
    },
    "language_info": {
      "name": "python"
    }
  },
  "cells": [
    {
      "cell_type": "markdown",
      "source": [
        "#*Trabalho 1*\n",
        "------------------------------------------------------------------\n",
        "#Análise Exploratória de Dados\n",
        "\n",
        "- **Professor:** Iális Cavalcante\n",
        "- **Disciplina:** TÓPICOS ESPECIAIS EM COMPUTAÇÃO I\n",
        "- **Curso:** Engenharia da Computação\n",
        "- **Descrição:**\n",
        "Nesse trabalho iremos ultilizar os conhecimentos de análise exploratória de dados adquiridos em sala, para tratar e explorar um data set sobre os países mais perigosos do mundo\n",
        "------------------------------------------------------------------\n",
        "- **Como usar?** Crie uma cópia do colab para o seu drive, e em \"Importando o dataset\" altere o caminho do dataset para o caminho do arquivo do seu drive!"
      ],
      "metadata": {
        "id": "FdXjXRLhy4sf"
      }
    },
    {
      "cell_type": "markdown",
      "source": [
        "#**Equipe:**\n",
        "- Francisco Wendel Alves Ribeiro - 510424\n",
        "- Gabriel Araújo Teixeira - 511476\n",
        "- Gabriel Cavalcante Alves Mesquita - 519389\n",
        "- Gabriel Vasconcelos Santos - 497688\n",
        "- Hítalo Rodrigues de Oliveira - 402885\n",
        "- Ionara Brandão Santanna - 389107\n"
      ],
      "metadata": {
        "id": "kMd8yTjMzKt_"
      }
    },
    {
      "cell_type": "markdown",
      "source": [
        "#**Instalações e Importações:**\n",
        "\n"
      ],
      "metadata": {
        "id": "kYrnXNO_5_Y4"
      }
    },
    {
      "cell_type": "code",
      "execution_count": null,
      "metadata": {
        "id": "HwDhbLpmyorN"
      },
      "outputs": [],
      "source": [
        "!pip install plotly --upgrade"
      ]
    },
    {
      "cell_type": "code",
      "source": [
        "import plotly.graph_objects as go\n",
        "import matplotlib.pyplot as plt\n",
        "import plotly.express as px\n",
        "import seaborn as sns\n",
        "import pandas as pd\n",
        "import numpy as np\n",
        "\n",
        "from sklearn.model_selection import train_test_split\n",
        "from sklearn.linear_model import LinearRegression\n",
        "from sklearn.metrics import mean_absolute_error\n",
        "from sklearn.metrics import mean_squared_error\n",
        "from sklearn.metrics import max_error"
      ],
      "metadata": {
        "id": "6VeD9Q180SJ7"
      },
      "execution_count": null,
      "outputs": []
    },
    {
      "cell_type": "markdown",
      "source": [
        "#**Importando o dataset:**"
      ],
      "metadata": {
        "id": "dBxvQE3o6dQx"
      }
    },
    {
      "cell_type": "code",
      "source": [
        "from google.colab import drive\n",
        "drive.mount('/content/drive')"
      ],
      "metadata": {
        "id": "KwO-idtv1Eh5"
      },
      "execution_count": null,
      "outputs": []
    },
    {
      "cell_type": "code",
      "source": [
        "intentional_homicide = pd.read_csv('https://drive.google.com/file/d/1vQAfugSibLx6EA2_t5vysnv-LaQDL01O/view')\n",
        "intentional_homicide"
      ],
      "metadata": {
        "id": "IZSv3S7G1dZo",
        "collapsed": true
      },
      "execution_count": null,
      "outputs": []
    },
    {
      "cell_type": "markdown",
      "source": [
        "#**Garantindo que a clouna 'Value' seja numérica:**"
      ],
      "metadata": {
        "id": "tl9cVa3k61QK"
      }
    },
    {
      "cell_type": "code",
      "source": [
        "intentional_homicide['VALUE'] = pd.to_numeric(intentional_homicide['VALUE'], errors='coerce')\n",
        "\n",
        "intentional_homicide = intentional_homicide.dropna(subset=['VALUE'])"
      ],
      "metadata": {
        "id": "f0pidt8bBAU9"
      },
      "execution_count": null,
      "outputs": []
    },
    {
      "cell_type": "markdown",
      "source": [
        "#**Quais países apresentam os 10 maiores índices de homicídios nos últimos 5 anos?**"
      ],
      "metadata": {
        "id": "SFYwRZrD7JOF"
      }
    },
    {
      "cell_type": "code",
      "source": [
        "anos_recentes = intentional_homicide['Year'].max() - 4\n",
        "dados_ultimos_5_anos = intentional_homicide[intentional_homicide['Year'] >= anos_recentes]\n",
        "\n",
        "homicidios_por_pais = dados_ultimos_5_anos.groupby('Country')['VALUE'].sum().reset_index()\n",
        "\n",
        "top_10_paises = homicidios_por_pais.sort_values(by='VALUE', ascending=False).head(10)\n",
        "\n",
        "print(top_10_paises)"
      ],
      "metadata": {
        "collapsed": true,
        "id": "LRTzwUMJ0lJA"
      },
      "execution_count": null,
      "outputs": []
    },
    {
      "cell_type": "code",
      "source": [
        "plt.figure(figsize=(12, 8))\n",
        "plt.barh(top_10_paises['Country'], top_10_paises['VALUE'], color='skyblue')\n",
        "plt.xlabel('Número Total de Homicídios')\n",
        "plt.ylabel('País')\n",
        "plt.title('Top 10 Países com Maiores Índices de Homicídios nos Últimos 5 Anos')\n",
        "plt.gca().invert_yaxis()\n",
        "plt.show()"
      ],
      "metadata": {
        "id": "NS5NVBlW2oCM"
      },
      "execution_count": null,
      "outputs": []
    },
    {
      "cell_type": "markdown",
      "source": [
        "#**Quais países apresentam os 10 maiores índices de homicidios de mulheres em 2022?**"
      ],
      "metadata": {
        "id": "oJSO4W9x76v0"
      }
    },
    {
      "cell_type": "code",
      "source": [
        "dados_2022 = intentional_homicide[(intentional_homicide['Year'] == 2022) & (intentional_homicide['Sex'] == 'Female')]\n",
        "\n",
        "homicidios_femininos_por_pais = dados_2022.groupby('Country')['VALUE'].sum().reset_index()\n",
        "\n",
        "top_10_paises_femininos = homicidios_femininos_por_pais.sort_values(by='VALUE', ascending=False).head(10)"
      ],
      "metadata": {
        "id": "vT6YzyqO6ypv"
      },
      "execution_count": null,
      "outputs": []
    },
    {
      "cell_type": "code",
      "source": [
        "plt.figure(figsize=(12, 8))\n",
        "plt.barh(top_10_paises_femininos['Country'], top_10_paises_femininos['VALUE'], color='salmon')\n",
        "plt.xlabel('Número Total de Homicídios de Mulheres')\n",
        "plt.ylabel('País')\n",
        "plt.title('Top 10 Países com Maiores Índices de Homicídios de Mulheres em 2022')\n",
        "plt.gca().invert_yaxis()\n",
        "plt.show()"
      ],
      "metadata": {
        "id": "BT-JvDcI7-P-"
      },
      "execution_count": null,
      "outputs": []
    },
    {
      "cell_type": "markdown",
      "source": [
        "#**Regiões com mais homicídios?**"
      ],
      "metadata": {
        "id": "XwbK-IQv8TS5"
      }
    },
    {
      "cell_type": "code",
      "source": [
        "sub_region_country = intentional_homicide.groupby(['Subregion', 'Country'])['VALUE'].sum().reset_index()\n",
        "\n",
        "sub_region_country_sorted = sub_region_country.sort_values(by=['VALUE'], ascending=True)\n",
        "\n",
        "homicide_totals = intentional_homicide[intentional_homicide['Indicator'].str.contains('Victims of intentional homicide', na=False)]\n",
        "region_homicides = homicide_totals.groupby('Region')['VALUE'].sum().sort_values(ascending=False).reset_index()\n",
        "region_homicides"
      ],
      "metadata": {
        "id": "4NJhcXTWF0Rk"
      },
      "execution_count": null,
      "outputs": []
    },
    {
      "cell_type": "code",
      "source": [
        "fig1 = px.bar(region_homicides, x='Region', y='VALUE', title='Regiões com mais homicídios', labels={'VALUE': 'Total de Homicídios'})\n",
        "fig1.show()"
      ],
      "metadata": {
        "id": "FmUyZx37C4C9"
      },
      "execution_count": null,
      "outputs": []
    },
    {
      "cell_type": "markdown",
      "source": [
        "#**Quais países com menor número de homicídios em cada subregião?**"
      ],
      "metadata": {
        "id": "7qYvkyrtB3fb"
      }
    },
    {
      "cell_type": "code",
      "source": [
        "sub_region = intentional_homicide.groupby('Subregion')['VALUE'].sum().reset_index()\n",
        "\n",
        "sub_region_sorted = sub_region.sort_values(by='VALUE', ascending=False)\n",
        "\n",
        "sub_region_country_sorted.head(10)"
      ],
      "metadata": {
        "id": "m1gwCG8rBOt4"
      },
      "execution_count": null,
      "outputs": []
    },
    {
      "cell_type": "code",
      "source": [
        "plt.figure(figsize=(14, 8))\n",
        "sns.barplot(x='VALUE', y='Country', hue='Subregion', data=sub_region_country_sorted.head(10), dodge=False)\n",
        "plt.title('Top 10 Países com Menor Número de Homicídios em Cada Subregião')\n",
        "plt.xlabel('Número de Homicídios')\n",
        "plt.ylabel('País')\n",
        "plt.legend(title='Subregião', bbox_to_anchor=(1.05, 1), loc='upper left')\n",
        "plt.show()"
      ],
      "metadata": {
        "id": "XIL0JwxajH2w"
      },
      "execution_count": null,
      "outputs": []
    },
    {
      "cell_type": "markdown",
      "source": [
        "#**Quais países com menor número de morte de mulheres?**"
      ],
      "metadata": {
        "id": "sgglSberCGol"
      }
    },
    {
      "cell_type": "code",
      "source": [
        "female_homicides = intentional_homicide[(intentional_homicide['Sex'] == 'Female') & (intentional_homicide['Unit of measurement'] == 'Counts')]\n",
        "countries_female_homicides = female_homicides.groupby('Country')['VALUE'].sum().sort_values().reset_index()\n",
        "\n",
        "top_countries = countries_female_homicides.head(10)\n",
        "top_countries"
      ],
      "metadata": {
        "id": "AtMd4qwyGRqI"
      },
      "execution_count": null,
      "outputs": []
    },
    {
      "cell_type": "code",
      "source": [
        "plt.figure(figsize=(10, 6))\n",
        "plt.barh(top_countries['Country'], top_countries['VALUE'], color='skyblue')\n",
        "plt.xlabel('Número de Mortes')\n",
        "plt.ylabel('Países')\n",
        "plt.title('Países com Menor Número de Mortes de Mulheres')\n",
        "plt.gca().invert_yaxis()\n",
        "plt.show()"
      ],
      "metadata": {
        "id": "2ZvdBH6zCuQL"
      },
      "execution_count": null,
      "outputs": []
    },
    {
      "cell_type": "markdown",
      "source": [
        "#**Quais as subregiões com maior número de homicídios?**"
      ],
      "metadata": {
        "id": "ASB64lRNCn-a"
      }
    },
    {
      "cell_type": "code",
      "source": [
        "sub_region_sorted.head(10)"
      ],
      "metadata": {
        "id": "E0Q_qqRvDoVj"
      },
      "execution_count": null,
      "outputs": []
    },
    {
      "cell_type": "code",
      "source": [
        "plt.figure(figsize=(14, 8))\n",
        "sns.barplot(x='VALUE', y='Subregion', data=sub_region_sorted.head(10))\n",
        "plt.title('Top 10 Subregiões com Maior Número de Homicídios')\n",
        "plt.xlabel('Número de Homicídios')\n",
        "plt.ylabel('Subregião')\n",
        "plt.show()"
      ],
      "metadata": {
        "id": "P5syjOeEkKaL"
      },
      "execution_count": null,
      "outputs": []
    },
    {
      "cell_type": "code",
      "source": [
        "plt.figure(figsize=(14, 8))\n",
        "plt.pie(sub_region_sorted.head(10)['VALUE'], labels=sub_region_sorted.head(10)['Subregion'], autopct='%1.1f%%', startangle=140)\n",
        "plt.title('Top 10 Subregiões com Maior Número de Homicídios')\n",
        "plt.show()"
      ],
      "metadata": {
        "id": "WgYaqxqoo8-_"
      },
      "execution_count": null,
      "outputs": []
    },
    {
      "cell_type": "markdown",
      "source": [
        "#**Indentifique o país com maior número de homicídios em cada continente em 2020**"
      ],
      "metadata": {
        "id": "ulunb3UODOHI"
      }
    },
    {
      "cell_type": "code",
      "source": [
        "homicidios_2020 = intentional_homicide[(intentional_homicide['Year'] == 2020) & (intentional_homicide['Indicator'] == 'Victims of intentional homicide')]\n",
        "homicidios_continente = homicidios_2020.groupby(['Region', 'Country'])['VALUE'].sum().reset_index()\n",
        "maior_homicidios_continente = homicidios_continente.loc[homicidios_continente.groupby('Region')['VALUE'].idxmax()]\n",
        "maior_homicidios_continente"
      ],
      "metadata": {
        "id": "oEpKBjOP9JfR"
      },
      "execution_count": null,
      "outputs": []
    },
    {
      "cell_type": "code",
      "source": [
        "plt.figure(figsize=(14, 8))\n",
        "sns.barplot(x='VALUE', y='Country', hue='Region', data=maior_homicidios_continente, dodge=False)\n",
        "plt.title('País com maior número de homicídios em cada continente em 2020')\n",
        "plt.xlabel('Número de Homicídios')\n",
        "plt.ylabel('País')\n",
        "plt.legend(title='Continente', bbox_to_anchor=(1.05, 1), loc='upper left')\n",
        "plt.show()"
      ],
      "metadata": {
        "id": "WvJPMa3NDkiL"
      },
      "execution_count": null,
      "outputs": []
    },
    {
      "cell_type": "markdown",
      "source": [
        "#**Qual o país com mais violento para as mulheres em 2021?**"
      ],
      "metadata": {
        "id": "tHZaOEO-DgJU"
      }
    },
    {
      "cell_type": "code",
      "source": [
        "violencia_mulheres_2021 = intentional_homicide[(intentional_homicide['Year'] == 2021) &\n",
        "                                                (intentional_homicide['Indicator'] == 'Victims of intentional homicide') &\n",
        "                                                (intentional_homicide['Sex'] == 'Female')]\n",
        "\n",
        "pais_mais_violento_mulheres = violencia_mulheres_2021.loc[violencia_mulheres_2021['VALUE'].idxmax()]\n",
        "\n",
        "print(\"\\nPaís mais violento para as mulheres em 2021:\")\n",
        "print(\"Country    Region    VALUE\")\n",
        "print(pais_mais_violento_mulheres['Country'],\"    \", pais_mais_violento_mulheres['Region'],\"   \", pais_mais_violento_mulheres['VALUE'])"
      ],
      "metadata": {
        "id": "NXPfB2_h9Niv"
      },
      "execution_count": null,
      "outputs": []
    },
    {
      "cell_type": "code",
      "source": [
        "plt.figure(figsize=(1, 3))\n",
        "plt.bar(pais_mais_violento_mulheres['Country'],pais_mais_violento_mulheres['VALUE'], color='red', width=0.2)\n",
        "plt.xlabel('País')\n",
        "plt.ylabel('Número Total de Homicídios')\n",
        "plt.title('País mais violento para as mulheres em 2021')\n",
        "plt.show()"
      ],
      "metadata": {
        "id": "FqEhUfoHgC3J"
      },
      "execution_count": null,
      "outputs": []
    },
    {
      "cell_type": "code",
      "source": [
        "#Extra, forma alternativa de responder a pergunta 8 utilizando o duckdb e a sintaxe sql.\n",
        "import duckdb as duck\n",
        "conn = duck.connect()\n",
        "conn.register('intentional_homicide', intentional_homicide)\n",
        "query = '''\n",
        "SELECT\n",
        "    country,\n",
        "    MAX(VALUE) AS max_value\n",
        "FROM\n",
        "    intentional_homicide\n",
        "WHERE\n",
        "    year = 2021\n",
        "    AND sex = 'Female'\n",
        "GROUP BY\n",
        "    country\n",
        "ORDER BY\n",
        "    max_value DESC\n",
        "LIMIT 1;\n",
        "'''\n",
        "resultado = conn.execute(query).df()\n",
        "\n",
        "print(resultado)"
      ],
      "metadata": {
        "id": "PwozwC_rgW5f"
      },
      "execution_count": null,
      "outputs": []
    },
    {
      "cell_type": "markdown",
      "source": [
        "#**Qual o país com maior valor de 'indicador: Victims of intentional homicide'?**"
      ],
      "metadata": {
        "id": "a_wnwrvqDxlP"
      }
    },
    {
      "cell_type": "code",
      "source": [
        "victimas_homicidio = intentional_homicide[intentional_homicide['Indicator'] == 'Victims of intentional homicide']\n",
        "pais_maior_vitimas_homicidio = victimas_homicidio.loc[victimas_homicidio['VALUE'].idxmax()]\n",
        "\n",
        "\n",
        "print(\"\\nPaís com maior valor de 'Victims of intentional homicide':\")\n",
        "print(\"Country    Region    VALUE\")\n",
        "print(pais_maior_vitimas_homicidio['Country'],\"    \", pais_maior_vitimas_homicidio['Region'],\"   \", pais_maior_vitimas_homicidio['VALUE'])"
      ],
      "metadata": {
        "id": "Ubhm_VwV9QQm"
      },
      "execution_count": null,
      "outputs": []
    },
    {
      "cell_type": "code",
      "source": [
        "plt.figure(figsize=(1, 3))\n",
        "plt.bar(pais_maior_vitimas_homicidio['Country'],pais_maior_vitimas_homicidio['VALUE'], color='red', width=0.2)\n",
        "plt.xlabel('País')\n",
        "plt.ylabel('Número Total de Homicídios')\n",
        "plt.title('Vítimas de homicidio')\n",
        "plt.show()"
      ],
      "metadata": {
        "id": "YpqIjpZqgXtb"
      },
      "execution_count": null,
      "outputs": []
    },
    {
      "cell_type": "markdown",
      "source": [
        "#**Qual a média de homicídios no Brasil nos últimos 10 anos?**"
      ],
      "metadata": {
        "id": "BVzyMnbwEDcB"
      }
    },
    {
      "cell_type": "code",
      "source": [
        "homicidios_brasil_10_anos = intentional_homicide[(intentional_homicide['Country'] == 'Brazil') &\n",
        "                                 (intentional_homicide['Indicator'] == 'Victims of intentional homicide') &\n",
        "                                 (intentional_homicide['Year'] >= (intentional_homicide['Year'].max() - 10))]\n",
        "media_homicidios_brasil = homicidios_brasil_10_anos['VALUE'].mean()\n",
        "\n",
        "print(\"\\nMédia de homicídios no Brasil nos últimos 10 anos:\")\n",
        "print(media_homicidios_brasil)"
      ],
      "metadata": {
        "id": "AvTf7TQZ9UhT"
      },
      "execution_count": null,
      "outputs": []
    }
  ]
}